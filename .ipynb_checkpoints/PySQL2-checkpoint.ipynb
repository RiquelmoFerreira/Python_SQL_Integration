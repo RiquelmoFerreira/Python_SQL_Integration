{
 "cells": [
  {
   "cell_type": "code",
   "execution_count": 15,
   "id": "68e67e1b",
   "metadata": {},
   "outputs": [
    {
     "name": "stdout",
     "output_type": "stream",
     "text": [
      "Connected Successfully\n"
     ]
    }
   ],
   "source": [
    "import pyodbc\n",
    "\n",
    "#If you want to use another Database just search for pyodbc \"databasename\" driver\n",
    "#To find out your hostname: CMD --> hostname\n",
    "connection = pyodbc.connect('Driver={SQL Server};'\n",
    "                            'Server=DESKTOP-KSQOAJ2\\SQLEXPRESS;'\n",
    "                            'Database=SampleDatabase;'\n",
    "                            'User=DESKTOP-KSQOAJ2\\rique'\n",
    ")\n",
    "print(\"Connected Successfully\")"
   ]
  },
  {
   "cell_type": "code",
   "execution_count": 16,
   "id": "f77a6f32",
   "metadata": {},
   "outputs": [],
   "source": [
    "cursor = connection.cursor()\n",
    "\n",
    "command = \"\"\"INSERT INTO SampleSales(sale_id, customer, car_name, sale_date, price, quantity)\n",
    "VALUES\n",
    " (6, 'Marcus', 'Toyota Corolla', '22/02/2023', 20425, 1)\"\"\"\n",
    "\n",
    "cursor.execute(command)\n",
    "    \n",
    "#You only need to use commit if you are going to change something inside the database\n",
    "cursor.commit()"
   ]
  }
 ],
 "metadata": {
  "kernelspec": {
   "display_name": "Python 3 (ipykernel)",
   "language": "python",
   "name": "python3"
  },
  "language_info": {
   "codemirror_mode": {
    "name": "ipython",
    "version": 3
   },
   "file_extension": ".py",
   "mimetype": "text/x-python",
   "name": "python",
   "nbconvert_exporter": "python",
   "pygments_lexer": "ipython3",
   "version": "3.11.0"
  }
 },
 "nbformat": 4,
 "nbformat_minor": 5
}
