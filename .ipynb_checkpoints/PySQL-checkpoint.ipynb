{
 "cells": [
  {
   "cell_type": "code",
   "execution_count": null,
   "id": "be4afa70",
   "metadata": {},
   "outputs": [],
   "source": [
    "# CMD --> pip install pyodbc\n",
    "\n",
    "import pyodbc\n",
    "\n",
    "#If you want to use another Database just search for pyodbc \"databasename\" driver\n",
    "#To find out your hostname: CMD --> hostname\n",
    "#Username: SSMS --> Connect Object Explorer --> Bellow Authentication you can see your Username\n",
    "#Password: If you have a password delete the \"'User=username'\" and use the code with the hashtag\n",
    "connection = pyodbc.connect('Driver={SQL Server};'\n",
    "                            'Server=hostname;'\n",
    "                            'Database=SampleDatabase;'\n",
    "                            'User=username'\n",
    "                            #'User=username;'\n",
    "                            #'Password:userpassword'\n",
    ")\n",
    "print(\"Connected Successfully\")"
   ]
  },
  {
   "cell_type": "code",
   "execution_count": null,
   "id": "85213084",
   "metadata": {},
   "outputs": [],
   "source": [
    "#New Query\n",
    "cursor = connection.cursor()\n",
    "\n",
    "command = \"\"\"INSERT INTO SampleSales(sale_id, customer, car_name, sale_date, price, quantity)\n",
    "VALUES\n",
    " (sale_id, 'customer', 'car_name', 'sale_date', price, quantity)\"\"\"\n",
    "\n",
    "cursor.execute(command)\n",
    "    \n",
    "#You only need to use commit if you are going to change something inside the database\n",
    "cursor.commit()"
   ]
  }
 ],
 "metadata": {
  "kernelspec": {
   "display_name": "Python 3 (ipykernel)",
   "language": "python",
   "name": "python3"
  },
  "language_info": {
   "codemirror_mode": {
    "name": "ipython",
    "version": 3
   },
   "file_extension": ".py",
   "mimetype": "text/x-python",
   "name": "python",
   "nbconvert_exporter": "python",
   "pygments_lexer": "ipython3",
   "version": "3.11.0"
  }
 },
 "nbformat": 4,
 "nbformat_minor": 5
}
